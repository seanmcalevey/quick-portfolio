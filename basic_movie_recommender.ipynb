{
  "nbformat": 4,
  "nbformat_minor": 0,
  "metadata": {
    "colab": {
      "name": "basic_movie_recommender.ipynb",
      "provenance": [],
      "authorship_tag": "ABX9TyNVYlXsnIUY6p3FYKSjxWcf",
      "include_colab_link": true
    },
    "kernelspec": {
      "name": "python3",
      "display_name": "Python 3"
    }
  },
  "cells": [
    {
      "cell_type": "markdown",
      "metadata": {
        "id": "view-in-github",
        "colab_type": "text"
      },
      "source": [
        "<a href=\"https://colab.research.google.com/github/seanmcalevey/quick-portfolio/blob/master/basic_movie_recommender.ipynb\" target=\"_parent\"><img src=\"https://colab.research.google.com/assets/colab-badge.svg\" alt=\"Open In Colab\"/></a>"
      ]
    },
    {
      "cell_type": "markdown",
      "metadata": {
        "id": "yJq23BoWA1TO",
        "colab_type": "text"
      },
      "source": [
        "### Basic Imports (Colab)"
      ]
    },
    {
      "cell_type": "code",
      "metadata": {
        "id": "80xZIhO3tG7Z",
        "colab_type": "code",
        "colab": {
          "base_uri": "https://localhost:8080/",
          "height": 34
        },
        "outputId": "17c939c7-2727-4bed-d4f4-edf9f8349c60"
      },
      "source": [
        "import numpy as np\n",
        "import pandas as pd\n",
        "import matplotlib.pyplot as plt\n",
        "from google.colab import drive\n",
        "\n",
        "drive.mount('/content/drive/')"
      ],
      "execution_count": 1,
      "outputs": [
        {
          "output_type": "stream",
          "text": [
            "Drive already mounted at /content/drive/; to attempt to forcibly remount, call drive.mount(\"/content/drive/\", force_remount=True).\n"
          ],
          "name": "stdout"
        }
      ]
    },
    {
      "cell_type": "markdown",
      "metadata": {
        "id": "CNxJqF_ftoH-",
        "colab_type": "text"
      },
      "source": [
        "### Main DF"
      ]
    },
    {
      "cell_type": "code",
      "metadata": {
        "id": "48QDpdJatLzA",
        "colab_type": "code",
        "colab": {
          "base_uri": "https://localhost:8080/",
          "height": 686
        },
        "outputId": "02d034fe-dfd5-4416-ad57-8a793aeb7418"
      },
      "source": [
        "drive_path = '/content/drive/My Drive/'\n",
        "folder_path = 'kaggle_datasets/movies_dataset/'\n",
        "file_path = 'movies_metadata.csv'\n",
        "metadata_df = pd.read_csv(drive_path + folder_path + file_path)\n",
        "metadata_df.head()"
      ],
      "execution_count": 2,
      "outputs": [
        {
          "output_type": "stream",
          "text": [
            "/usr/local/lib/python3.6/dist-packages/IPython/core/interactiveshell.py:2718: DtypeWarning: Columns (10) have mixed types.Specify dtype option on import or set low_memory=False.\n",
            "  interactivity=interactivity, compiler=compiler, result=result)\n"
          ],
          "name": "stderr"
        },
        {
          "output_type": "execute_result",
          "data": {
            "text/html": [
              "<div>\n",
              "<style scoped>\n",
              "    .dataframe tbody tr th:only-of-type {\n",
              "        vertical-align: middle;\n",
              "    }\n",
              "\n",
              "    .dataframe tbody tr th {\n",
              "        vertical-align: top;\n",
              "    }\n",
              "\n",
              "    .dataframe thead th {\n",
              "        text-align: right;\n",
              "    }\n",
              "</style>\n",
              "<table border=\"1\" class=\"dataframe\">\n",
              "  <thead>\n",
              "    <tr style=\"text-align: right;\">\n",
              "      <th></th>\n",
              "      <th>adult</th>\n",
              "      <th>belongs_to_collection</th>\n",
              "      <th>budget</th>\n",
              "      <th>genres</th>\n",
              "      <th>homepage</th>\n",
              "      <th>id</th>\n",
              "      <th>imdb_id</th>\n",
              "      <th>original_language</th>\n",
              "      <th>original_title</th>\n",
              "      <th>overview</th>\n",
              "      <th>popularity</th>\n",
              "      <th>poster_path</th>\n",
              "      <th>production_companies</th>\n",
              "      <th>production_countries</th>\n",
              "      <th>release_date</th>\n",
              "      <th>revenue</th>\n",
              "      <th>runtime</th>\n",
              "      <th>spoken_languages</th>\n",
              "      <th>status</th>\n",
              "      <th>tagline</th>\n",
              "      <th>title</th>\n",
              "      <th>video</th>\n",
              "      <th>vote_average</th>\n",
              "      <th>vote_count</th>\n",
              "    </tr>\n",
              "  </thead>\n",
              "  <tbody>\n",
              "    <tr>\n",
              "      <th>0</th>\n",
              "      <td>False</td>\n",
              "      <td>{'id': 10194, 'name': 'Toy Story Collection', ...</td>\n",
              "      <td>30000000</td>\n",
              "      <td>[{'id': 16, 'name': 'Animation'}, {'id': 35, '...</td>\n",
              "      <td>http://toystory.disney.com/toy-story</td>\n",
              "      <td>862</td>\n",
              "      <td>tt0114709</td>\n",
              "      <td>en</td>\n",
              "      <td>Toy Story</td>\n",
              "      <td>Led by Woody, Andy's toys live happily in his ...</td>\n",
              "      <td>21.9469</td>\n",
              "      <td>/rhIRbceoE9lR4veEXuwCC2wARtG.jpg</td>\n",
              "      <td>[{'name': 'Pixar Animation Studios', 'id': 3}]</td>\n",
              "      <td>[{'iso_3166_1': 'US', 'name': 'United States o...</td>\n",
              "      <td>1995-10-30</td>\n",
              "      <td>373554033.0</td>\n",
              "      <td>81.0</td>\n",
              "      <td>[{'iso_639_1': 'en', 'name': 'English'}]</td>\n",
              "      <td>Released</td>\n",
              "      <td>NaN</td>\n",
              "      <td>Toy Story</td>\n",
              "      <td>False</td>\n",
              "      <td>7.7</td>\n",
              "      <td>5415.0</td>\n",
              "    </tr>\n",
              "    <tr>\n",
              "      <th>1</th>\n",
              "      <td>False</td>\n",
              "      <td>NaN</td>\n",
              "      <td>65000000</td>\n",
              "      <td>[{'id': 12, 'name': 'Adventure'}, {'id': 14, '...</td>\n",
              "      <td>NaN</td>\n",
              "      <td>8844</td>\n",
              "      <td>tt0113497</td>\n",
              "      <td>en</td>\n",
              "      <td>Jumanji</td>\n",
              "      <td>When siblings Judy and Peter discover an encha...</td>\n",
              "      <td>17.0155</td>\n",
              "      <td>/vzmL6fP7aPKNKPRTFnZmiUfciyV.jpg</td>\n",
              "      <td>[{'name': 'TriStar Pictures', 'id': 559}, {'na...</td>\n",
              "      <td>[{'iso_3166_1': 'US', 'name': 'United States o...</td>\n",
              "      <td>1995-12-15</td>\n",
              "      <td>262797249.0</td>\n",
              "      <td>104.0</td>\n",
              "      <td>[{'iso_639_1': 'en', 'name': 'English'}, {'iso...</td>\n",
              "      <td>Released</td>\n",
              "      <td>Roll the dice and unleash the excitement!</td>\n",
              "      <td>Jumanji</td>\n",
              "      <td>False</td>\n",
              "      <td>6.9</td>\n",
              "      <td>2413.0</td>\n",
              "    </tr>\n",
              "    <tr>\n",
              "      <th>2</th>\n",
              "      <td>False</td>\n",
              "      <td>{'id': 119050, 'name': 'Grumpy Old Men Collect...</td>\n",
              "      <td>0</td>\n",
              "      <td>[{'id': 10749, 'name': 'Romance'}, {'id': 35, ...</td>\n",
              "      <td>NaN</td>\n",
              "      <td>15602</td>\n",
              "      <td>tt0113228</td>\n",
              "      <td>en</td>\n",
              "      <td>Grumpier Old Men</td>\n",
              "      <td>A family wedding reignites the ancient feud be...</td>\n",
              "      <td>11.7129</td>\n",
              "      <td>/6ksm1sjKMFLbO7UY2i6G1ju9SML.jpg</td>\n",
              "      <td>[{'name': 'Warner Bros.', 'id': 6194}, {'name'...</td>\n",
              "      <td>[{'iso_3166_1': 'US', 'name': 'United States o...</td>\n",
              "      <td>1995-12-22</td>\n",
              "      <td>0.0</td>\n",
              "      <td>101.0</td>\n",
              "      <td>[{'iso_639_1': 'en', 'name': 'English'}]</td>\n",
              "      <td>Released</td>\n",
              "      <td>Still Yelling. Still Fighting. Still Ready for...</td>\n",
              "      <td>Grumpier Old Men</td>\n",
              "      <td>False</td>\n",
              "      <td>6.5</td>\n",
              "      <td>92.0</td>\n",
              "    </tr>\n",
              "    <tr>\n",
              "      <th>3</th>\n",
              "      <td>False</td>\n",
              "      <td>NaN</td>\n",
              "      <td>16000000</td>\n",
              "      <td>[{'id': 35, 'name': 'Comedy'}, {'id': 18, 'nam...</td>\n",
              "      <td>NaN</td>\n",
              "      <td>31357</td>\n",
              "      <td>tt0114885</td>\n",
              "      <td>en</td>\n",
              "      <td>Waiting to Exhale</td>\n",
              "      <td>Cheated on, mistreated and stepped on, the wom...</td>\n",
              "      <td>3.85949</td>\n",
              "      <td>/16XOMpEaLWkrcPqSQqhTmeJuqQl.jpg</td>\n",
              "      <td>[{'name': 'Twentieth Century Fox Film Corporat...</td>\n",
              "      <td>[{'iso_3166_1': 'US', 'name': 'United States o...</td>\n",
              "      <td>1995-12-22</td>\n",
              "      <td>81452156.0</td>\n",
              "      <td>127.0</td>\n",
              "      <td>[{'iso_639_1': 'en', 'name': 'English'}]</td>\n",
              "      <td>Released</td>\n",
              "      <td>Friends are the people who let you be yourself...</td>\n",
              "      <td>Waiting to Exhale</td>\n",
              "      <td>False</td>\n",
              "      <td>6.1</td>\n",
              "      <td>34.0</td>\n",
              "    </tr>\n",
              "    <tr>\n",
              "      <th>4</th>\n",
              "      <td>False</td>\n",
              "      <td>{'id': 96871, 'name': 'Father of the Bride Col...</td>\n",
              "      <td>0</td>\n",
              "      <td>[{'id': 35, 'name': 'Comedy'}]</td>\n",
              "      <td>NaN</td>\n",
              "      <td>11862</td>\n",
              "      <td>tt0113041</td>\n",
              "      <td>en</td>\n",
              "      <td>Father of the Bride Part II</td>\n",
              "      <td>Just when George Banks has recovered from his ...</td>\n",
              "      <td>8.38752</td>\n",
              "      <td>/e64sOI48hQXyru7naBFyssKFxVd.jpg</td>\n",
              "      <td>[{'name': 'Sandollar Productions', 'id': 5842}...</td>\n",
              "      <td>[{'iso_3166_1': 'US', 'name': 'United States o...</td>\n",
              "      <td>1995-02-10</td>\n",
              "      <td>76578911.0</td>\n",
              "      <td>106.0</td>\n",
              "      <td>[{'iso_639_1': 'en', 'name': 'English'}]</td>\n",
              "      <td>Released</td>\n",
              "      <td>Just When His World Is Back To Normal... He's ...</td>\n",
              "      <td>Father of the Bride Part II</td>\n",
              "      <td>False</td>\n",
              "      <td>5.7</td>\n",
              "      <td>173.0</td>\n",
              "    </tr>\n",
              "  </tbody>\n",
              "</table>\n",
              "</div>"
            ],
            "text/plain": [
              "   adult  ... vote_count\n",
              "0  False  ...     5415.0\n",
              "1  False  ...     2413.0\n",
              "2  False  ...       92.0\n",
              "3  False  ...       34.0\n",
              "4  False  ...      173.0\n",
              "\n",
              "[5 rows x 24 columns]"
            ]
          },
          "metadata": {
            "tags": []
          },
          "execution_count": 2
        }
      ]
    },
    {
      "cell_type": "markdown",
      "metadata": {
        "id": "TP-crrBsA6kc",
        "colab_type": "text"
      },
      "source": [
        "### Trim Down Dataset Features"
      ]
    },
    {
      "cell_type": "code",
      "metadata": {
        "id": "WOyRSLKmtpqE",
        "colab_type": "code",
        "colab": {
          "base_uri": "https://localhost:8080/",
          "height": 34
        },
        "outputId": "16f00240-5a75-40c8-9952-4ba70221f995"
      },
      "source": [
        "cols_to_keep = ['original_title', 'overview', 'original_language', 'vote_count']\n",
        "overview_df = metadata_df[cols_to_keep]\n",
        "overview_df = overview_df[overview_df['original_language'] == 'en'] # only english movies\n",
        "overview_df = overview_df.drop('original_language', axis=1) # drop language feature\n",
        "overview_df = overview_df.dropna(subset=['overview']) # drop nans\n",
        "overview_df.shape"
      ],
      "execution_count": 3,
      "outputs": [
        {
          "output_type": "execute_result",
          "data": {
            "text/plain": [
              "(32200, 3)"
            ]
          },
          "metadata": {
            "tags": []
          },
          "execution_count": 3
        }
      ]
    },
    {
      "cell_type": "markdown",
      "metadata": {
        "id": "0Kxl9akm9_WU",
        "colab_type": "text"
      },
      "source": [
        "### Drop Movies with Few Views"
      ]
    },
    {
      "cell_type": "code",
      "metadata": {
        "id": "Yu1KJdgd-Q76",
        "colab_type": "code",
        "colab": {}
      },
      "source": [
        "overview_df = overview_df.dropna()\n",
        "t = overview_df['vote_count']\n",
        "q = 0.75\n",
        "min_votes = np.quantile(t, q)\n",
        "print(f'Film needs to be voted on {min_votes} many times.')\n",
        "overview_df = overview_df[overview_df['vote_count'] > min_votes]\n",
        "overview_df = overview_df.reset_index(drop=True)"
      ],
      "execution_count": 27,
      "outputs": []
    },
    {
      "cell_type": "markdown",
      "metadata": {
        "id": "7XLQHgzZuJoG",
        "colab_type": "text"
      },
      "source": [
        "### Text Cleaning"
      ]
    },
    {
      "cell_type": "code",
      "metadata": {
        "id": "u_j1YQqNuO3B",
        "colab_type": "code",
        "colab": {
          "base_uri": "https://localhost:8080/",
          "height": 125
        },
        "outputId": "b137734b-425a-46a3-faa8-36cc33f38867"
      },
      "source": [
        "import re\n",
        "\n",
        "cleaned_text = [re.sub('[^A-Za-z\\s]', '', text) for text in overview_df['overview']]\n",
        "cleaned_text[:5] # show first five processed texts"
      ],
      "execution_count": 28,
      "outputs": [
        {
          "output_type": "execute_result",
          "data": {
            "text/plain": [
              "['Led by Woody Andys toys live happily in his room until Andys birthday brings Buzz Lightyear onto the scene Afraid of losing his place in Andys heart Woody plots against Buzz But when circumstances separate Buzz and Woody from their owner the duo eventually learns to put aside their differences',\n",
              " 'When siblings Judy and Peter discover an enchanted board game that opens the door to a magical world they unwittingly invite Alan  an adult whos been trapped inside the game for  years  into their living room Alans only hope for freedom is to finish the game which proves risky as all three find themselves running from giant rhinoceroses evil monkeys and other terrifying creatures',\n",
              " 'A family wedding reignites the ancient feud between nextdoor neighbors and fishing buddies John and Max Meanwhile a sultry Italian divorce opens a restaurant at the local bait shop alarming the locals who worry shell scare the fish away But shes less interested in seafood than she is in cooking up a hot time with Max',\n",
              " 'Just when George Banks has recovered from his daughters wedding he receives the news that shes pregnant  and that Georges wife Nina is expecting too He was planning on selling their home but thats a plan that  like George  will have to change with the arrival of both a grandchild and a kid of his own',\n",
              " 'Obsessive master thief Neil McCauley leads a topnotch crew on various insane heists throughout Los Angeles while a mentally unstable detective Vincent Hanna pursues him without rest Each man recognizes and respects the ability and the dedication of the other even though they are aware their catandmouse game may end in violence']"
            ]
          },
          "metadata": {
            "tags": []
          },
          "execution_count": 28
        }
      ]
    },
    {
      "cell_type": "markdown",
      "metadata": {
        "id": "9A-pJihZuMBc",
        "colab_type": "text"
      },
      "source": [
        "### Tfidf Vectorization"
      ]
    },
    {
      "cell_type": "code",
      "metadata": {
        "id": "sL7yj4x6trfw",
        "colab_type": "code",
        "colab": {
          "base_uri": "https://localhost:8080/",
          "height": 52
        },
        "outputId": "37fa755b-01e2-4131-a651-51e84b544647"
      },
      "source": [
        "from sklearn.feature_extraction.text import TfidfVectorizer\n",
        "\n",
        "max_features = 5000\n",
        "\n",
        "vec = TfidfVectorizer(stop_words='english', ngram_range=(1,2), max_features=max_features)\n",
        "tfidf_matrix = vec.fit_transform(cleaned_text)\n",
        "tfidf_matrix"
      ],
      "execution_count": 29,
      "outputs": [
        {
          "output_type": "execute_result",
          "data": {
            "text/plain": [
              "<7999x5000 sparse matrix of type '<class 'numpy.float64'>'\n",
              "\twith 158306 stored elements in Compressed Sparse Row format>"
            ]
          },
          "metadata": {
            "tags": []
          },
          "execution_count": 29
        }
      ]
    },
    {
      "cell_type": "markdown",
      "metadata": {
        "id": "tRY-pbPzxoy3",
        "colab_type": "text"
      },
      "source": [
        "### Pairwise Cosine Similarity Score Matrix"
      ]
    },
    {
      "cell_type": "code",
      "metadata": {
        "id": "JH7e8wh_xkOK",
        "colab_type": "code",
        "colab": {}
      },
      "source": [
        "from sklearn.metrics.pairwise import linear_kernel\n",
        "\n",
        "cos_matrix = linear_kernel(tfidf_matrix, tfidf_matrix)"
      ],
      "execution_count": 30,
      "outputs": []
    },
    {
      "cell_type": "markdown",
      "metadata": {
        "id": "R18bltnaxvWY",
        "colab_type": "text"
      },
      "source": [
        "### Title-Index Lookup Table"
      ]
    },
    {
      "cell_type": "code",
      "metadata": {
        "id": "BS6xXPQixoZK",
        "colab_type": "code",
        "colab": {
          "base_uri": "https://localhost:8080/",
          "height": 141
        },
        "outputId": "f9b90cab-5921-4428-8986-b72abf24258c"
      },
      "source": [
        "title_lookup = pd.Series(overview_df.index, index=overview_df['original_title'])\n",
        "title_lookup.head()"
      ],
      "execution_count": 31,
      "outputs": [
        {
          "output_type": "execute_result",
          "data": {
            "text/plain": [
              "original_title\n",
              "Toy Story                      0\n",
              "Jumanji                        1\n",
              "Grumpier Old Men               2\n",
              "Father of the Bride Part II    3\n",
              "Heat                           4\n",
              "dtype: int64"
            ]
          },
          "metadata": {
            "tags": []
          },
          "execution_count": 31
        }
      ]
    },
    {
      "cell_type": "markdown",
      "metadata": {
        "id": "b3akHOJg9Bj3",
        "colab_type": "text"
      },
      "source": [
        "### Recommender Function"
      ]
    },
    {
      "cell_type": "code",
      "metadata": {
        "id": "lzlQXk8bxyjK",
        "colab_type": "code",
        "colab": {}
      },
      "source": [
        "def get_recommendations(title, df=overview_df, cos_matrix=cos_matrix):\n",
        "  idx = title_lookup.loc[f'{title}']\n",
        "  tuple_list = list(enumerate(cos_matrix[idx]))\n",
        "  sorted_list = sorted(tuple_list, key=lambda x: x[1], reverse=True) # sort list\n",
        "  top_10_scores = sorted_list[1:11] # get top 10\n",
        "  idxs = [tupl[0] for tupl in top_10_scores] # splice tupls to get indices\n",
        "  similarity_scores = [tupl[1] for tupl in top_10_scores] # splice tupls to get similarity scores\n",
        "  return_df = df.iloc[idxs,:]\n",
        "  return_df['similarity_score'] = similarity_scores\n",
        "  return_df = return_df[['original_title', 'overview', 'similarity_score']]\n",
        "  return return_df"
      ],
      "execution_count": 33,
      "outputs": []
    },
    {
      "cell_type": "markdown",
      "metadata": {
        "id": "x8uF--t59gxE",
        "colab_type": "text"
      },
      "source": [
        "### Sample Titles"
      ]
    },
    {
      "cell_type": "code",
      "metadata": {
        "id": "jrmTLt9iyZcR",
        "colab_type": "code",
        "colab": {
          "base_uri": "https://localhost:8080/",
          "height": 1000
        },
        "outputId": "b9f4cb21-e51f-42b7-9b7e-12abc9159794"
      },
      "source": [
        "list_of_movies = ['The Departed', 'Phantom Thread', 'Gladiator', 'Mean Girls']\n",
        "\n",
        "for movie in list_of_movies:\n",
        "  print(movie, '\\n')\n",
        "  print(get_recommendations(movie_title))\n",
        "  print('\\n')"
      ],
      "execution_count": 37,
      "outputs": [
        {
          "output_type": "stream",
          "text": [
            "The Departed \n",
            "\n",
            "                original_title  ... similarity_score\n",
            "717              Donnie Brasco  ...         0.251885\n",
            "1399          Mickey Blue Eyes  ...         0.177849\n",
            "6677                     Blood  ...         0.174499\n",
            "1102                     Ronin  ...         0.168606\n",
            "3606                   Hostage  ...         0.167071\n",
            "2709  Ordinary Decent Criminal  ...         0.155123\n",
            "5286         Kill the Irishman  ...         0.151247\n",
            "3422           Charley Varrick  ...         0.150342\n",
            "7107                Black Mass  ...         0.145689\n",
            "2004      Beverly Hills Cop II  ...         0.143087\n",
            "\n",
            "[10 rows x 3 columns]\n",
            "\n",
            "\n",
            "Phantom Thread \n",
            "\n",
            "                original_title  ... similarity_score\n",
            "717              Donnie Brasco  ...         0.251885\n",
            "1399          Mickey Blue Eyes  ...         0.177849\n",
            "6677                     Blood  ...         0.174499\n",
            "1102                     Ronin  ...         0.168606\n",
            "3606                   Hostage  ...         0.167071\n",
            "2709  Ordinary Decent Criminal  ...         0.155123\n",
            "5286         Kill the Irishman  ...         0.151247\n",
            "3422           Charley Varrick  ...         0.150342\n",
            "7107                Black Mass  ...         0.145689\n",
            "2004      Beverly Hills Cop II  ...         0.143087\n",
            "\n",
            "[10 rows x 3 columns]\n",
            "\n",
            "\n",
            "Gladiator \n",
            "\n",
            "                original_title  ... similarity_score\n",
            "717              Donnie Brasco  ...         0.251885\n",
            "1399          Mickey Blue Eyes  ...         0.177849\n",
            "6677                     Blood  ...         0.174499\n",
            "1102                     Ronin  ...         0.168606\n",
            "3606                   Hostage  ...         0.167071\n",
            "2709  Ordinary Decent Criminal  ...         0.155123\n",
            "5286         Kill the Irishman  ...         0.151247\n",
            "3422           Charley Varrick  ...         0.150342\n",
            "7107                Black Mass  ...         0.145689\n",
            "2004      Beverly Hills Cop II  ...         0.143087\n",
            "\n",
            "[10 rows x 3 columns]\n",
            "\n",
            "\n",
            "Mean Girls \n",
            "\n",
            "                original_title  ... similarity_score\n",
            "717              Donnie Brasco  ...         0.251885\n",
            "1399          Mickey Blue Eyes  ...         0.177849\n",
            "6677                     Blood  ...         0.174499\n",
            "1102                     Ronin  ...         0.168606\n",
            "3606                   Hostage  ...         0.167071\n",
            "2709  Ordinary Decent Criminal  ...         0.155123\n",
            "5286         Kill the Irishman  ...         0.151247\n",
            "3422           Charley Varrick  ...         0.150342\n",
            "7107                Black Mass  ...         0.145689\n",
            "2004      Beverly Hills Cop II  ...         0.143087\n",
            "\n",
            "[10 rows x 3 columns]\n",
            "\n",
            "\n"
          ],
          "name": "stdout"
        },
        {
          "output_type": "stream",
          "text": [
            "/usr/local/lib/python3.6/dist-packages/ipykernel_launcher.py:9: SettingWithCopyWarning: \n",
            "A value is trying to be set on a copy of a slice from a DataFrame.\n",
            "Try using .loc[row_indexer,col_indexer] = value instead\n",
            "\n",
            "See the caveats in the documentation: https://pandas.pydata.org/pandas-docs/stable/user_guide/indexing.html#returning-a-view-versus-a-copy\n",
            "  if __name__ == '__main__':\n",
            "/usr/local/lib/python3.6/dist-packages/ipykernel_launcher.py:9: SettingWithCopyWarning: \n",
            "A value is trying to be set on a copy of a slice from a DataFrame.\n",
            "Try using .loc[row_indexer,col_indexer] = value instead\n",
            "\n",
            "See the caveats in the documentation: https://pandas.pydata.org/pandas-docs/stable/user_guide/indexing.html#returning-a-view-versus-a-copy\n",
            "  if __name__ == '__main__':\n",
            "/usr/local/lib/python3.6/dist-packages/ipykernel_launcher.py:9: SettingWithCopyWarning: \n",
            "A value is trying to be set on a copy of a slice from a DataFrame.\n",
            "Try using .loc[row_indexer,col_indexer] = value instead\n",
            "\n",
            "See the caveats in the documentation: https://pandas.pydata.org/pandas-docs/stable/user_guide/indexing.html#returning-a-view-versus-a-copy\n",
            "  if __name__ == '__main__':\n",
            "/usr/local/lib/python3.6/dist-packages/ipykernel_launcher.py:9: SettingWithCopyWarning: \n",
            "A value is trying to be set on a copy of a slice from a DataFrame.\n",
            "Try using .loc[row_indexer,col_indexer] = value instead\n",
            "\n",
            "See the caveats in the documentation: https://pandas.pydata.org/pandas-docs/stable/user_guide/indexing.html#returning-a-view-versus-a-copy\n",
            "  if __name__ == '__main__':\n"
          ],
          "name": "stderr"
        }
      ]
    },
    {
      "cell_type": "code",
      "metadata": {
        "id": "VUdxCkiPyedi",
        "colab_type": "code",
        "colab": {}
      },
      "source": [
        ""
      ],
      "execution_count": null,
      "outputs": []
    }
  ]
}